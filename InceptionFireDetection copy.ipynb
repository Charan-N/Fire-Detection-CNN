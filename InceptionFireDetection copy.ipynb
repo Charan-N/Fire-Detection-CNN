{
  "cells": [
    {
      "cell_type": "code",
      "execution_count": 1,
      "metadata": {
        "colab": {
          "base_uri": "https://localhost:8080/",
          "height": 54
        },
        "colab_type": "code",
        "id": "M3OBXeh6VWr0",
        "outputId": "3f7bd6d4-e5bc-4fd2-c6b2-925995be836f"
      },
      "outputs": [
        {
          "name": "stdout",
          "output_type": "stream",
          "text": [
            "Found 1800 images belonging to 2 classes.\n",
            "Found 200 images belonging to 2 classes.\n"
          ]
        }
      ],
      "source": [
        "import tensorflow as tf\n",
        "import keras_preprocessing\n",
        "from keras_preprocessing import image\n",
        "from keras_preprocessing.image import ImageDataGenerator\n",
        "import shutil\n",
        "TRAINING_DIR = \"Dataset 3/Train\"\n",
        "\n",
        "training_datagen = ImageDataGenerator(rescale=1./255,\n",
        "\t\t\t\t\t\t\t\t\t  zoom_range=0.15,\n",
        "\t\t\t\t\t\t\t\t\t  horizontal_flip=True,\n",
        "\t\t\t\t\t\t\t\t\t  fill_mode='nearest')\n",
        "\n",
        "VALIDATION_DIR = \"Dataset 3/Test\"\n",
        "validation_datagen = ImageDataGenerator(rescale = 1./255)\n",
        "\n",
        "train_generator = training_datagen.flow_from_directory(\n",
        "\tTRAINING_DIR,\n",
        "\ttarget_size=(224,224),\n",
        "\tshuffle = True,\n",
        "\tclass_mode='categorical',\n",
        "  batch_size = 128\n",
        ")\n",
        "\n",
        "validation_generator = validation_datagen.flow_from_directory(\n",
        "\tVALIDATION_DIR,\n",
        "\ttarget_size=(224,224),\n",
        "\tclass_mode='categorical',\n",
        "\tshuffle = True,\n",
        "  batch_size= 14\n",
        ")"
      ]
    },
    {
      "cell_type": "code",
      "execution_count": 2,
      "metadata": {
        "colab": {
          "base_uri": "https://localhost:8080/",
          "height": 74
        },
        "colab_type": "code",
        "id": "HH1NABoFzDd0",
        "outputId": "f5c9368f-3cd9-4c49-fcc3-f3182e15ad9b"
      },
      "outputs": [
        {
          "name": "stdout",
          "output_type": "stream",
          "text": [
            "Downloading data from https://storage.googleapis.com/tensorflow/keras-applications/inception_v3/inception_v3_weights_tf_dim_ordering_tf_kernels_notop.h5\n",
            "87916544/87910968 [==============================] - 13s 0us/step\n"
          ]
        }
      ],
      "source": [
        "from tensorflow.keras.applications.inception_v3 import InceptionV3\n",
        "from tensorflow.keras.preprocessing import image\n",
        "from tensorflow.keras.models import Model\n",
        "from tensorflow.keras.layers import Dense, GlobalAveragePooling2D, Input, Dropout\n",
        "\n",
        "input_tensor = Input(shape=(224, 224, 3))\n",
        "\n",
        "base_model = InceptionV3(input_tensor=input_tensor, weights='imagenet', include_top=False)\n",
        "\n",
        "# add a global spatial average pooling layer\n",
        "x = base_model.output\n",
        "x = GlobalAveragePooling2D()(x)\n",
        "x = Dense(2048, activation='relu')(x)\n",
        "x = Dropout(0.25)(x)\n",
        "x = Dense(1024, activation='relu')(x)\n",
        "x = Dropout(0.2)(x)\n",
        "predictions = Dense(2, activation='softmax')(x)\n",
        "\n",
        "model = Model(inputs=base_model.input, outputs=predictions)\n",
        "\n",
        "for layer in base_model.layers:\n",
        "    layer.trainable = False\n",
        "\n",
        "model.compile(optimizer='rmsprop', loss='categorical_crossentropy', metrics=['acc'])"
      ]
    },
    {
      "cell_type": "code",
      "execution_count": 3,
      "metadata": {
        "colab": {
          "base_uri": "https://localhost:8080/",
          "height": 745
        },
        "colab_type": "code",
        "id": "l5Uua4-UUP5k",
        "outputId": "c2ddabee-31d9-4d61-b4f2-2ef5231e2acb"
      },
      "outputs": [
        {
          "name": "stdout",
          "output_type": "stream",
          "text": [
            "Epoch 1/20\n",
            "14/14 [==============================] - 97s 7s/step - loss: 10.0931 - acc: 0.7321 - val_loss: 0.7648 - val_acc: 0.5816\n",
            "Epoch 2/20\n",
            "14/14 [==============================] - 76s 5s/step - loss: 0.2135 - acc: 0.9127 - val_loss: 0.1990 - val_acc: 0.9133\n",
            "Epoch 3/20\n",
            "14/14 [==============================] - 86s 6s/step - loss: 0.0974 - acc: 0.9593 - val_loss: 0.1786 - val_acc: 0.9439\n",
            "Epoch 4/20\n",
            "14/14 [==============================] - 92s 7s/step - loss: 0.1417 - acc: 0.9545 - val_loss: 0.1009 - val_acc: 0.9592\n",
            "Epoch 5/20\n",
            "14/14 [==============================] - 87s 6s/step - loss: 0.2502 - acc: 0.9151 - val_loss: 0.1029 - val_acc: 0.9592\n",
            "Epoch 6/20\n",
            "14/14 [==============================] - ETA: 0s - loss: 0.0689 - acc: 0.9737\n",
            "\n",
            " Reached The Destination!\n",
            "14/14 [==============================] - 78s 6s/step - loss: 0.0689 - acc: 0.9737 - val_loss: 0.0943 - val_acc: 0.9643\n"
          ]
        }
      ],
      "source": [
        "class myCallback(tf.keras.callbacks.Callback):\n",
        "  def on_epoch_end(self, epoch, logs={}):\n",
        "    if(logs.get('val_loss')<=0.1099 and logs.get('loss')<=0.1099):\n",
        "      print('\\n\\n Reached The Destination!')\n",
        "      self.model.stop_training = True\n",
        "callbacks = myCallback()\n",
        "\n",
        "history = model.fit(\n",
        "    train_generator,\n",
        "    steps_per_epoch = 14,\n",
        "    epochs = 20,\n",
        "    validation_data = validation_generator,\n",
        "    validation_steps = 14,\n",
        "    callbacks=[callbacks]\n",
        ")"
      ]
    },
    {
      "cell_type": "code",
      "execution_count": 4,
      "metadata": {
        "colab": {
          "base_uri": "https://localhost:8080/",
          "height": 399
        },
        "colab_type": "code",
        "id": "quS_DTwyBT1K",
        "outputId": "9cd463ed-a852-4368-ca52-316938eb2e7e"
      },
      "outputs": [
        {
          "name": "stdout",
          "output_type": "stream",
          "text": [
            "Epoch 1/10\n",
            "14/14 [==============================] - 109s 8s/step - loss: 0.3950 - acc: 0.7733 - val_loss: 0.1006 - val_acc: 0.9592\n",
            "Epoch 2/10\n",
            "14/14 [==============================] - 104s 7s/step - loss: 0.3500 - acc: 0.8086 - val_loss: 0.1069 - val_acc: 0.9643\n",
            "Epoch 3/10\n",
            "14/14 [==============================] - 104s 7s/step - loss: 0.2914 - acc: 0.8481 - val_loss: 0.1165 - val_acc: 0.9541\n",
            "Epoch 4/10\n",
            "14/14 [==============================] - 108s 8s/step - loss: 0.2625 - acc: 0.8756 - val_loss: 0.1180 - val_acc: 0.9592\n",
            "Epoch 5/10\n",
            "14/14 [==============================] - 121s 9s/step - loss: 0.2246 - acc: 0.9067 - val_loss: 0.1316 - val_acc: 0.9541\n",
            "Epoch 6/10\n",
            "14/14 [==============================] - 104s 7s/step - loss: 0.1991 - acc: 0.9288 - val_loss: 0.1353 - val_acc: 0.9592\n",
            "Epoch 7/10\n",
            "14/14 [==============================] - 102s 7s/step - loss: 0.1821 - acc: 0.9432 - val_loss: 0.1431 - val_acc: 0.9541\n",
            "Epoch 8/10\n",
            "14/14 [==============================] - 102s 7s/step - loss: 0.1783 - acc: 0.9426 - val_loss: 0.1493 - val_acc: 0.9541\n",
            "Epoch 9/10\n",
            "14/14 [==============================] - 101s 7s/step - loss: 0.1680 - acc: 0.9462 - val_loss: 0.1533 - val_acc: 0.9541\n",
            "Epoch 10/10\n",
            "14/14 [==============================] - 98s 7s/step - loss: 0.1571 - acc: 0.9569 - val_loss: 0.1564 - val_acc: 0.9490\n",
            "311\n"
          ]
        }
      ],
      "source": [
        "\n",
        "for layer in model.layers[:249]:\n",
        "   layer.trainable = False\n",
        "for layer in model.layers[249:]:\n",
        "   layer.trainable = True\n",
        "\n",
        "from tensorflow.keras.optimizers import SGD\n",
        "model.compile(optimizer=SGD(lr=0.0001, momentum=0.9), loss='categorical_crossentropy', metrics=['acc'])\n",
        "\n",
        "\n",
        "class myCallback(tf.keras.callbacks.Callback):\n",
        "  def on_epoch_end(self, epoch, logs={}):\n",
        "    if(logs.get('val_loss')<=0.1099 and logs.get('loss')<=0.1099):\n",
        "      print('\\n\\n Reached The Destination!')\n",
        "      self.model.stop_training = True\n",
        "callbacks = myCallback()\n",
        "\n",
        "history = model.fit(\n",
        "    train_generator,\n",
        "    steps_per_epoch = 14,\n",
        "    epochs = 10,\n",
        "    validation_data = validation_generator,\n",
        "    validation_steps = 14,\n",
        "    callbacks=[callbacks]\n",
        ")\n",
        "print(len(base_model.layers))"
      ]
    },
    {
      "cell_type": "code",
      "execution_count": 5,
      "metadata": {
        "colab": {
          "base_uri": "https://localhost:8080/",
          "height": 581
        },
        "colab_type": "code",
        "id": "MfavSDNZkKXq",
        "outputId": "e22978a0-ba3c-4ec2-f226-e12f06abe502"
      },
      "outputs": [
        {
          "data": {
            "image/png": "[encoded data removed]",
            "text/plain": [
              "<Figure size 432x288 with 1 Axes>"
            ]
          },
          "metadata": {
            "needs_background": "light"
          },
          "output_type": "display_data"
        },
        {
          "data": {
            "text/plain": [
              "<Figure size 432x288 with 0 Axes>"
            ]
          },
          "metadata": {},
          "output_type": "display_data"
        },
        {
          "data": {
            "image/png": "[encoded data removed]",
            "text/plain": [
              "<Figure size 432x288 with 1 Axes>"
            ]
          },
          "metadata": {
            "needs_background": "light"
          },
          "output_type": "display_data"
        },
        {
          "data": {
            "text/plain": [
              "<Figure size 432x288 with 0 Axes>"
            ]
          },
          "metadata": {},
          "output_type": "display_data"
        }
      ],
      "source": [
        "%matplotlib inline\n",
        "import matplotlib.pyplot as plt\n",
        "acc = history.history['acc']\n",
        "val_acc = history.history['val_acc']\n",
        "loss = history.history['loss']\n",
        "val_loss = history.history['val_loss']\n",
        "\n",
        "epochs = range(len(acc))\n",
        "\n",
        "plt.plot(epochs, acc, 'g', label='Training accuracy')\n",
        "plt.plot(epochs, val_acc, 'b', label='Validation accuracy')\n",
        "plt.title('Training and validation accuracy')\n",
        "\n",
        "plt.legend(loc=0)\n",
        "plt.figure()\n",
        "plt.show()\n",
        "\n",
        "plt.plot(epochs, loss, 'r', label='Training loss')\n",
        "plt.plot(epochs, val_loss, 'orange', label='Validation loss')\n",
        "plt.title('Training and validation loss')\n",
        "\n",
        "plt.legend(loc=0)\n",
        "plt.figure()\n",
        "plt.show()"
      ]
    },
    {
      "cell_type": "code",
      "execution_count": 13,
      "metadata": {},
      "outputs": [
        {
          "name": "stderr",
          "output_type": "stream",
          "text": [
            "Exception ignored in: <function ScopedTFGraph.__del__ at 0x00000205B49890D0>\n",
            "Traceback (most recent call last):\n",
            "  File \"C:\\Users\\chara\\anaconda3\\lib\\site-packages\\tensorflow\\python\\framework\\c_api_util.py\", line 54, in __del__\n",
            "    self.deleter(self.graph)\n",
            "AttributeError: 'ScopedTFGraph' object has no attribute 'deleter'\n"
          ]
        },
        {
          "name": "stdout",
          "output_type": "stream",
          "text": [
            "INFO:tensorflow:Assets written to: Model\\assets\n"
          ]
        }
      ],
      "source": [
        "model.save('Model')"
      ]
    }
  ],
  "metadata": {
    "accelerator": "GPU",
    "colab": {
      "collapsed_sections": [],
      "name": "InceptionFireDetection.ipynb",
      "provenance": []
    },
    "kernelspec": {
      "display_name": "Python 3",
      "name": "python3"
    },
    "language_info": {
      "codemirror_mode": {
        "name": "ipython",
        "version": 3
      },
      "file_extension": ".py",
      "mimetype": "text/x-python",
      "name": "python",
      "nbconvert_exporter": "python",
      "pygments_lexer": "ipython3",
      "version": "3.8.3"
    }
  },
  "nbformat": 4,
  "nbformat_minor": 0
}
